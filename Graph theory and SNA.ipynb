{
 "cells": [
  {
   "cell_type": "markdown",
   "id": "b41ed2b8",
   "metadata": {},
   "source": [
    "Triadic Closure and Clustering - need updated python for networkx"
   ]
  },
  {
   "cell_type": "code",
   "execution_count": 1,
   "id": "c0176fc7",
   "metadata": {},
   "outputs": [],
   "source": [
    "import pandas as pd\n",
    "import numpy as np\n",
    "import networkx as nx"
   ]
  },
  {
   "cell_type": "code",
   "execution_count": 7,
   "id": "5df50232",
   "metadata": {},
   "outputs": [
    {
     "ename": "SyntaxError",
     "evalue": "invalid syntax (1558811336.py, line 1)",
     "output_type": "error",
     "traceback": [
      "\u001b[0;36m  File \u001b[0;32m\"/var/folders/t0/vv75knk555sbfc42cx0y7wg80000gn/T/ipykernel_11244/1558811336.py\"\u001b[0;36m, line \u001b[0;32m1\u001b[0m\n\u001b[0;31m    1st = [('A','C'), ('A','B'), ('B','D'),('C','D'), ('A','C'), ('D','E'), ('D','F'), ('E','F'), ('E','G'), ('F','H'), ('I','J')]\u001b[0m\n\u001b[0m     ^\u001b[0m\n\u001b[0;31mSyntaxError\u001b[0m\u001b[0;31m:\u001b[0m invalid syntax\n"
     ]
    }
   ],
   "source": [
    "1st = [('A','C'), ('A','B'), ('B','D'),('C','D'), ('A','C'), ('D','E'), ('D','F'), ('E','F'), ('E','G'), ('F','H'), ('I','J')]"
   ]
  },
  {
   "cell_type": "code",
   "execution_count": 2,
   "id": "39b8643e",
   "metadata": {},
   "outputs": [
    {
     "ename": "SyntaxError",
     "evalue": "invalid syntax (1380086455.py, line 2)",
     "output_type": "error",
     "traceback": [
      "\u001b[0;36m  File \u001b[0;32m\"/var/folders/t0/vv75knk555sbfc42cx0y7wg80000gn/T/ipykernel_28399/1380086455.py\"\u001b[0;36m, line \u001b[0;32m2\u001b[0m\n\u001b[0;31m    G.add_edges_from(1st)\u001b[0m\n\u001b[0m                      ^\u001b[0m\n\u001b[0;31mSyntaxError\u001b[0m\u001b[0;31m:\u001b[0m invalid syntax\n"
     ]
    }
   ],
   "source": [
    "G = nx.Graph()\n",
    "G.add_edges_from(1st)"
   ]
  },
  {
   "cell_type": "code",
   "execution_count": 3,
   "id": "aeb1744b",
   "metadata": {
    "scrolled": true
   },
   "outputs": [
    {
     "ename": "NameError",
     "evalue": "name 'G' is not defined",
     "output_type": "error",
     "traceback": [
      "\u001b[0;31m---------------------------------------------------------------------------\u001b[0m",
      "\u001b[0;31mNameError\u001b[0m                                 Traceback (most recent call last)",
      "\u001b[0;32m/var/folders/t0/vv75knk555sbfc42cx0y7wg80000gn/T/ipykernel_28399/4165089256.py\u001b[0m in \u001b[0;36m<module>\u001b[0;34m\u001b[0m\n\u001b[0;32m----> 1\u001b[0;31m \u001b[0mnx\u001b[0m\u001b[0;34m.\u001b[0m\u001b[0mdraw_networkx\u001b[0m\u001b[0;34m(\u001b[0m\u001b[0mG\u001b[0m\u001b[0;34m)\u001b[0m\u001b[0;34m\u001b[0m\u001b[0;34m\u001b[0m\u001b[0m\n\u001b[0m",
      "\u001b[0;31mNameError\u001b[0m: name 'G' is not defined"
     ]
    }
   ],
   "source": [
    "nx.draw_networkx(G)"
   ]
  },
  {
   "cell_type": "markdown",
   "id": "c397156c",
   "metadata": {},
   "source": [
    "Local Clustering\n",
    "1. Get degree of vertex. 2. Find potential pairs adjacent 3. Find actual pairs adjacent to vertex v"
   ]
  },
  {
   "cell_type": "code",
   "execution_count": 4,
   "id": "dc01fc00",
   "metadata": {},
   "outputs": [
    {
     "ename": "NameError",
     "evalue": "name 'G' is not defined",
     "output_type": "error",
     "traceback": [
      "\u001b[0;31m---------------------------------------------------------------------------\u001b[0m",
      "\u001b[0;31mNameError\u001b[0m                                 Traceback (most recent call last)",
      "\u001b[0;32m/var/folders/t0/vv75knk555sbfc42cx0y7wg80000gn/T/ipykernel_28399/2949461247.py\u001b[0m in \u001b[0;36m<module>\u001b[0;34m\u001b[0m\n\u001b[0;32m----> 1\u001b[0;31m \u001b[0mnx\u001b[0m\u001b[0;34m.\u001b[0m\u001b[0mclustering\u001b[0m\u001b[0;34m(\u001b[0m\u001b[0mG\u001b[0m\u001b[0;34m,\u001b[0m\u001b[0;34m'D'\u001b[0m\u001b[0;34m)\u001b[0m\u001b[0;34m\u001b[0m\u001b[0;34m\u001b[0m\u001b[0m\n\u001b[0m",
      "\u001b[0;31mNameError\u001b[0m: name 'G' is not defined"
     ]
    }
   ],
   "source": [
    "nx.clustering(G,'D')"
   ]
  },
  {
   "cell_type": "markdown",
   "id": "97b4e411",
   "metadata": {},
   "source": [
    "Global Clustering\n",
    "Average Clusterning and Transitivity"
   ]
  },
  {
   "cell_type": "code",
   "execution_count": 5,
   "id": "c8938806",
   "metadata": {},
   "outputs": [],
   "source": [
    "lc = [('I','A'),('A','B'),('I','B'),('I','C'),('C','D'),('I','D'),('I','E'),('E','F'),('I','F'),('I','G'),('G','H'),('I','H')]"
   ]
  },
  {
   "cell_type": "code",
   "execution_count": 6,
   "id": "637d9069",
   "metadata": {},
   "outputs": [],
   "source": [
    "H = nx.Graph()\n",
    "H.add_edges_from(lc)"
   ]
  },
  {
   "cell_type": "code",
   "execution_count": 7,
   "id": "e3794d71",
   "metadata": {},
   "outputs": [
    {
     "data": {
      "image/png": "[encoded data removed]",
      "text/plain": [
       "<Figure size 432x288 with 1 Axes>"
      ]
     },
     "metadata": {},
     "output_type": "display_data"
    }
   ],
   "source": [
    "nx.draw_networkx(H)"
   ]
  },
  {
   "cell_type": "code",
   "execution_count": 8,
   "id": "01845fed",
   "metadata": {},
   "outputs": [
    {
     "data": {
      "text/plain": [
       "0.9047619047619047"
      ]
     },
     "execution_count": 8,
     "metadata": {},
     "output_type": "execute_result"
    }
   ],
   "source": [
    "nx.average_clustering(H)"
   ]
  },
  {
   "cell_type": "code",
   "execution_count": 9,
   "id": "ed1dfb5b",
   "metadata": {},
   "outputs": [
    {
     "data": {
      "text/plain": [
       "0.3333333333333333"
      ]
     },
     "execution_count": 9,
     "metadata": {},
     "output_type": "execute_result"
    }
   ],
   "source": [
    "nx.transitivity(H)"
   ]
  },
  {
   "cell_type": "markdown",
   "id": "873875ee",
   "metadata": {},
   "source": [
    "Ave CC is low but Transitivity is high...tbc"
   ]
  },
  {
   "cell_type": "markdown",
   "id": "5389b293",
   "metadata": {},
   "source": [
    "Distance measures"
   ]
  },
  {
   "cell_type": "code",
   "execution_count": 10,
   "id": "80b63ba9",
   "metadata": {},
   "outputs": [
    {
     "ename": "AttributeError",
     "evalue": "module networkx has no attribute draw_network",
     "output_type": "error",
     "traceback": [
      "\u001b[0;31m---------------------------------------------------------------------------\u001b[0m",
      "\u001b[0;31mAttributeError\u001b[0m                            Traceback (most recent call last)",
      "\u001b[0;32m/var/folders/t0/vv75knk555sbfc42cx0y7wg80000gn/T/ipykernel_28399/1033475179.py\u001b[0m in \u001b[0;36m<module>\u001b[0;34m\u001b[0m\n\u001b[1;32m      3\u001b[0m \u001b[0mJ\u001b[0m\u001b[0;34m.\u001b[0m\u001b[0madd_edges_from\u001b[0m\u001b[0;34m(\u001b[0m\u001b[0mng\u001b[0m\u001b[0;34m)\u001b[0m\u001b[0;34m\u001b[0m\u001b[0;34m\u001b[0m\u001b[0m\n\u001b[1;32m      4\u001b[0m \u001b[0mpos\u001b[0m \u001b[0;34m=\u001b[0m \u001b[0mnx\u001b[0m\u001b[0;34m.\u001b[0m\u001b[0mspring_layout\u001b[0m\u001b[0;34m(\u001b[0m\u001b[0mJ\u001b[0m\u001b[0;34m)\u001b[0m\u001b[0;34m\u001b[0m\u001b[0;34m\u001b[0m\u001b[0m\n\u001b[0;32m----> 5\u001b[0;31m \u001b[0mnx\u001b[0m\u001b[0;34m.\u001b[0m\u001b[0mdraw_network\u001b[0m\u001b[0;34m(\u001b[0m\u001b[0mJ\u001b[0m\u001b[0;34m,\u001b[0m \u001b[0mpos\u001b[0m\u001b[0;34m=\u001b[0m\u001b[0mpos\u001b[0m\u001b[0;34m)\u001b[0m\u001b[0;34m\u001b[0m\u001b[0;34m\u001b[0m\u001b[0m\n\u001b[0m",
      "\u001b[0;32m~/opt/anaconda3/lib/python3.9/site-packages/networkx/__init__.py\u001b[0m in \u001b[0;36m__getattr__\u001b[0;34m(name)\u001b[0m\n\u001b[1;32m     49\u001b[0m             \u001b[0;34m\"This message will be removed in NetworkX 3.0.\"\u001b[0m\u001b[0;34m\u001b[0m\u001b[0;34m\u001b[0m\u001b[0m\n\u001b[1;32m     50\u001b[0m         )\n\u001b[0;32m---> 51\u001b[0;31m     \u001b[0;32mraise\u001b[0m \u001b[0mAttributeError\u001b[0m\u001b[0;34m(\u001b[0m\u001b[0;34mf\"module {__name__} has no attribute {name}\"\u001b[0m\u001b[0;34m)\u001b[0m\u001b[0;34m\u001b[0m\u001b[0;34m\u001b[0m\u001b[0m\n\u001b[0m\u001b[1;32m     52\u001b[0m \u001b[0;34m\u001b[0m\u001b[0m\n\u001b[1;32m     53\u001b[0m \u001b[0;34m\u001b[0m\u001b[0m\n",
      "\u001b[0;31mAttributeError\u001b[0m: module networkx has no attribute draw_network"
     ]
    }
   ],
   "source": [
    "ng = [('A','C'), ('A','B'), ('B','D'),('C','D'), ('A','C'), ('D','E'), ('D','F'), ('E','F'), ('E','G'), ('F','H')]\n",
    "J = nx.Graph()\n",
    "J.add_edges_from(ng)\n",
    "pos = nx.spring_layout(J)\n",
    "nx.draw_network(J, pos=pos)"
   ]
  },
  {
   "cell_type": "code",
   "execution_count": 11,
   "id": "bb65b5d3",
   "metadata": {},
   "outputs": [
    {
     "data": {
      "text/plain": [
       "['A', 'C', 'D', 'F', 'H']"
      ]
     },
     "execution_count": 11,
     "metadata": {},
     "output_type": "execute_result"
    }
   ],
   "source": [
    "nx.shortest_path(J,'A','H')"
   ]
  },
  {
   "cell_type": "code",
   "execution_count": 12,
   "id": "45498ff3",
   "metadata": {},
   "outputs": [
    {
     "data": {
      "text/plain": [
       "4"
      ]
     },
     "execution_count": 12,
     "metadata": {},
     "output_type": "execute_result"
    }
   ],
   "source": [
    "nx.shortest_path_length(J,'A','H')"
   ]
  },
  {
   "cell_type": "code",
   "execution_count": 13,
   "id": "1e630163",
   "metadata": {},
   "outputs": [],
   "source": [
    "T=nx.bfs_tree(J,'A')"
   ]
  },
  {
   "cell_type": "code",
   "execution_count": 14,
   "id": "e9d7dc92",
   "metadata": {},
   "outputs": [
    {
     "data": {
      "image/png": "[encoded data removed]",
      "text/plain": [
       "<Figure size 432x288 with 1 Axes>"
      ]
     },
     "metadata": {},
     "output_type": "display_data"
    }
   ],
   "source": [
    "nx.draw_networkx(T, pos=pos)"
   ]
  },
  {
   "cell_type": "code",
   "execution_count": 15,
   "id": "8b0aa3d1",
   "metadata": {},
   "outputs": [
    {
     "data": {
      "text/plain": [
       "{'A': 0, 'C': 1, 'B': 1, 'D': 2, 'F': 3, 'E': 3, 'H': 4, 'G': 4}"
      ]
     },
     "execution_count": 15,
     "metadata": {},
     "output_type": "execute_result"
    }
   ],
   "source": [
    "nx.shortest_path_length(J,'A')"
   ]
  },
  {
   "cell_type": "code",
   "execution_count": 16,
   "id": "e6792eb8",
   "metadata": {},
   "outputs": [
    {
     "data": {
      "text/plain": [
       "'Graph with 8 nodes and 9 edges'"
      ]
     },
     "execution_count": 16,
     "metadata": {},
     "output_type": "execute_result"
    }
   ],
   "source": [
    "nx.info(J)"
   ]
  },
  {
   "cell_type": "code",
   "execution_count": 17,
   "id": "73f348ae",
   "metadata": {},
   "outputs": [
    {
     "data": {
      "text/plain": [
       "2.0714285714285716"
      ]
     },
     "execution_count": 17,
     "metadata": {},
     "output_type": "execute_result"
    }
   ],
   "source": [
    "nx.average_shortest_path_length(J)"
   ]
  },
  {
   "cell_type": "markdown",
   "id": "5c9ccaa7",
   "metadata": {},
   "source": [
    "Charactersing a network"
   ]
  },
  {
   "cell_type": "markdown",
   "id": "4b5b117c",
   "metadata": {},
   "source": [
    "Diameter = maximum distance between any pair of vertices in G"
   ]
  },
  {
   "cell_type": "code",
   "execution_count": 18,
   "id": "8a871370",
   "metadata": {},
   "outputs": [
    {
     "data": {
      "text/plain": [
       "4"
      ]
     },
     "execution_count": 18,
     "metadata": {},
     "output_type": "execute_result"
    }
   ],
   "source": [
    "nx.diameter(J)"
   ]
  },
  {
   "cell_type": "markdown",
   "id": "c6aa6a42",
   "metadata": {},
   "source": [
    "Eccentricity of vertex in the farthest distance between it and all other vertices in G"
   ]
  },
  {
   "cell_type": "code",
   "execution_count": 19,
   "id": "09f5b392",
   "metadata": {},
   "outputs": [
    {
     "data": {
      "text/plain": [
       "{'A': 4, 'C': 3, 'B': 3, 'D': 2, 'E': 3, 'F': 3, 'G': 4, 'H': 4}"
      ]
     },
     "execution_count": 19,
     "metadata": {},
     "output_type": "execute_result"
    }
   ],
   "source": [
    "nx.eccentricity(J)"
   ]
  },
  {
   "cell_type": "markdown",
   "id": "96542768",
   "metadata": {},
   "source": [
    "Radius is the minmum eccentricity in the Graph"
   ]
  },
  {
   "cell_type": "code",
   "execution_count": 20,
   "id": "4f61b07c",
   "metadata": {},
   "outputs": [
    {
     "data": {
      "text/plain": [
       "2"
      ]
     },
     "execution_count": 20,
     "metadata": {},
     "output_type": "execute_result"
    }
   ],
   "source": [
    "nx.radius(J)"
   ]
  },
  {
   "cell_type": "markdown",
   "id": "02dfd399",
   "metadata": {},
   "source": [
    "Periphery is the set of all vertices that have eccentricity equal to the diameter"
   ]
  },
  {
   "cell_type": "code",
   "execution_count": 21,
   "id": "aa332e7f",
   "metadata": {},
   "outputs": [
    {
     "data": {
      "text/plain": [
       "['A', 'G', 'H']"
      ]
     },
     "execution_count": 21,
     "metadata": {},
     "output_type": "execute_result"
    }
   ],
   "source": [
    "nx.periphery(J)"
   ]
  },
  {
   "cell_type": "markdown",
   "id": "73423c87",
   "metadata": {},
   "source": [
    "Centre is the set of vertices that eccentricity equal to the radius"
   ]
  },
  {
   "cell_type": "code",
   "execution_count": 22,
   "id": "a89d94b5",
   "metadata": {},
   "outputs": [
    {
     "data": {
      "text/plain": [
       "['D']"
      ]
     },
     "execution_count": 22,
     "metadata": {},
     "output_type": "execute_result"
    }
   ],
   "source": [
    "nx.center(J)"
   ]
  },
  {
   "cell_type": "code",
   "execution_count": 23,
   "id": "f57331df",
   "metadata": {},
   "outputs": [],
   "source": [
    "import networkx as nx\n",
    "import matplotlib.pyplot as plt\n",
    "from collections import OrderedDict"
   ]
  },
  {
   "cell_type": "code",
   "execution_count": 24,
   "id": "dd1c26b6",
   "metadata": {},
   "outputs": [],
   "source": [
    "cen =[('A','B'),('A','D'),('A','E'),('A','F'),('A','G'),('B','C'),('C','D')]"
   ]
  },
  {
   "cell_type": "code",
   "execution_count": 25,
   "id": "d9de6155",
   "metadata": {},
   "outputs": [
    {
     "data": {
      "text/plain": [
       "<Figure size 1440x2880 with 0 Axes>"
      ]
     },
     "execution_count": 25,
     "metadata": {},
     "output_type": "execute_result"
    },
    {
     "data": {
      "image/png": "[encoded data removed]",
      "text/plain": [
       "<Figure size 432x288 with 1 Axes>"
      ]
     },
     "metadata": {},
     "output_type": "display_data"
    },
    {
     "data": {
      "text/plain": [
       "<Figure size 1440x2880 with 0 Axes>"
      ]
     },
     "metadata": {},
     "output_type": "display_data"
    }
   ],
   "source": [
    "C = nx.Graph()\n",
    "C.add_edges_from(cen)\n",
    "size = [x*4000 for x in list(nx.degree_centrality(C).values())]\n",
    "\n",
    "#pos = nex.spring_layout(C)\n",
    "pos = nx.kamada_kawai_layout(C)\n",
    "nx.draw_networkx(C, pos=pos,node_size=size)\n",
    "plt.figure(figsize=(20,40))"
   ]
  },
  {
   "cell_type": "code",
   "execution_count": 26,
   "id": "a4374f25",
   "metadata": {},
   "outputs": [
    {
     "data": {
      "text/plain": [
       "{'A': 0.8333333333333333,\n",
       " 'B': 0.3333333333333333,\n",
       " 'D': 0.3333333333333333,\n",
       " 'E': 0.16666666666666666,\n",
       " 'F': 0.16666666666666666,\n",
       " 'G': 0.16666666666666666,\n",
       " 'C': 0.3333333333333333}"
      ]
     },
     "execution_count": 26,
     "metadata": {},
     "output_type": "execute_result"
    }
   ],
   "source": [
    "nx.degree_centrality(C)"
   ]
  },
  {
   "cell_type": "code",
   "execution_count": 27,
   "id": "c3c18b6a",
   "metadata": {},
   "outputs": [
    {
     "data": {
      "text/plain": [
       "OrderedDict([('A', 0.8333333333333333),\n",
       "             ('B', 0.3333333333333333),\n",
       "             ('C', 0.3333333333333333),\n",
       "             ('D', 0.3333333333333333),\n",
       "             ('E', 0.16666666666666666),\n",
       "             ('F', 0.16666666666666666),\n",
       "             ('G', 0.16666666666666666)])"
      ]
     },
     "execution_count": 27,
     "metadata": {},
     "output_type": "execute_result"
    }
   ],
   "source": [
    "OrderedDict(sorted(nx.degree_centrality(C).items()))"
   ]
  },
  {
   "cell_type": "markdown",
   "id": "fa7beb4b",
   "metadata": {},
   "source": [
    "closeness centrality"
   ]
  },
  {
   "cell_type": "code",
   "execution_count": 28,
   "id": "b7507c11",
   "metadata": {},
   "outputs": [
    {
     "data": {
      "text/plain": [
       "<Figure size 1440x2880 with 0 Axes>"
      ]
     },
     "execution_count": 28,
     "metadata": {},
     "output_type": "execute_result"
    },
    {
     "data": {
      "image/png": "[encoded data removed]",
      "text/plain": [
       "<Figure size 432x288 with 1 Axes>"
      ]
     },
     "metadata": {},
     "output_type": "display_data"
    },
    {
     "data": {
      "text/plain": [
       "<Figure size 1440x2880 with 0 Axes>"
      ]
     },
     "metadata": {},
     "output_type": "display_data"
    }
   ],
   "source": [
    "D = nx.Graph()\n",
    "D.add_edges_from(cen)\n",
    "size = [x*4000 for x in list(nx.degree_centrality(D).values())]\n",
    "\n",
    "#pos = nex.spring_layout(C)\n",
    "pos = nx.kamada_kawai_layout(D)\n",
    "nx.draw_networkx(C, pos=pos,node_size=size)\n",
    "plt.figure(figsize=(20,40))"
   ]
  },
  {
   "cell_type": "code",
   "execution_count": 29,
   "id": "3aac90f1",
   "metadata": {},
   "outputs": [
    {
     "data": {
      "text/plain": [
       "{'A': 0.8571428571428571,\n",
       " 'B': 0.6,\n",
       " 'D': 0.6,\n",
       " 'E': 0.5,\n",
       " 'F': 0.5,\n",
       " 'G': 0.5,\n",
       " 'C': 0.46153846153846156}"
      ]
     },
     "execution_count": 29,
     "metadata": {},
     "output_type": "execute_result"
    }
   ],
   "source": [
    "nx.closeness_centrality(D)"
   ]
  },
  {
   "cell_type": "code",
   "execution_count": 30,
   "id": "da53323d",
   "metadata": {},
   "outputs": [],
   "source": [
    "cen1 = [('A','D'),('A','E'),('A','F'),('A','G'),('B','C'),('C','D'),('D','B')]"
   ]
  },
  {
   "cell_type": "code",
   "execution_count": 31,
   "id": "6fbda443",
   "metadata": {},
   "outputs": [
    {
     "data": {
      "text/plain": [
       "<Figure size 1440x2880 with 0 Axes>"
      ]
     },
     "execution_count": 31,
     "metadata": {},
     "output_type": "execute_result"
    },
    {
     "data": {
      "image/png": "[encoded data removed]",
      "text/plain": [
       "<Figure size 432x288 with 1 Axes>"
      ]
     },
     "metadata": {},
     "output_type": "display_data"
    },
    {
     "data": {
      "text/plain": [
       "<Figure size 1440x2880 with 0 Axes>"
      ]
     },
     "metadata": {},
     "output_type": "display_data"
    }
   ],
   "source": [
    "Z = nx.Graph()\n",
    "Z.add_edges_from(cen1)\n",
    "\n",
    "\n",
    "#pos = nex.spring_layout(C)\n",
    "pos = nx.kamada_kawai_layout(Z)\n",
    "nx.draw_networkx(Z, pos=pos,node_size=size)\n",
    "plt.figure(figsize=(20,40))"
   ]
  },
  {
   "cell_type": "code",
   "execution_count": 32,
   "id": "6003a912",
   "metadata": {},
   "outputs": [
    {
     "data": {
      "text/plain": [
       "{'A': 12.0, 'D': 8.0, 'E': 0.0, 'F': 0.0, 'G': 0.0, 'B': 0.0, 'C': 0.0}"
      ]
     },
     "execution_count": 32,
     "metadata": {},
     "output_type": "execute_result"
    }
   ],
   "source": [
    "nx.betweenness_centrality(Z,weight=None,normalized=False)"
   ]
  },
  {
   "cell_type": "code",
   "execution_count": 33,
   "id": "e3db7ed6",
   "metadata": {},
   "outputs": [
    {
     "data": {
      "text/plain": [
       "{'A': 0.8,\n",
       " 'D': 0.5333333333333333,\n",
       " 'E': 0.0,\n",
       " 'F': 0.0,\n",
       " 'G': 0.0,\n",
       " 'B': 0.0,\n",
       " 'C': 0.0}"
      ]
     },
     "execution_count": 33,
     "metadata": {},
     "output_type": "execute_result"
    }
   ],
   "source": [
    "nx.betweenness_centrality(Z,weight=None,normalized=True)"
   ]
  },
  {
   "cell_type": "markdown",
   "id": "59876199",
   "metadata": {},
   "source": [
    "Eigenvector centrality"
   ]
  },
  {
   "cell_type": "code",
   "execution_count": 34,
   "id": "9b50f29c",
   "metadata": {},
   "outputs": [],
   "source": [
    "import networkx as nx\n",
    "import matplotlib.pyplot as plt"
   ]
  },
  {
   "cell_type": "code",
   "execution_count": 35,
   "id": "51c76925",
   "metadata": {},
   "outputs": [],
   "source": [
    "F =[('A','E'),('A','F'),('B','C'),('C','D'),('C','E'),('D','E')]"
   ]
  },
  {
   "cell_type": "code",
   "execution_count": 36,
   "id": "bc43f779",
   "metadata": {},
   "outputs": [
    {
     "data": {
      "text/plain": [
       "<Figure size 1440x2880 with 0 Axes>"
      ]
     },
     "execution_count": 36,
     "metadata": {},
     "output_type": "execute_result"
    },
    {
     "data": {
      "image/png": "[encoded data removed]",
      "text/plain": [
       "<Figure size 432x288 with 1 Axes>"
      ]
     },
     "metadata": {},
     "output_type": "display_data"
    },
    {
     "data": {
      "text/plain": [
       "<Figure size 1440x2880 with 0 Axes>"
      ]
     },
     "metadata": {},
     "output_type": "display_data"
    }
   ],
   "source": [
    "Y = nx.Graph()\n",
    "Y.add_edges_from(F)\n",
    "size = [x*4000 for x in list(nx.eigenvector_centrality(Y).values())]\n",
    "\n",
    "#pos = nex.spring_layout(C)\n",
    "pos = nx.kamada_kawai_layout(Y)\n",
    "nx.draw_networkx(Y, pos=pos,node_size=size)\n",
    "plt.figure(figsize=(20,40))"
   ]
  },
  {
   "cell_type": "code",
   "execution_count": 37,
   "id": "910cb9c5",
   "metadata": {},
   "outputs": [
    {
     "data": {
      "text/plain": [
       "{'A': 0.2960106780620251,\n",
       " 'E': 0.5641296168649563,\n",
       " 'F': 0.1268157309507932,\n",
       " 'B': 0.23366886004136134,\n",
       " 'C': 0.5454313242761885,\n",
       " 'D': 0.47534909127689273}"
      ]
     },
     "execution_count": 37,
     "metadata": {},
     "output_type": "execute_result"
    }
   ],
   "source": [
    "nx.eigenvector_centrality(Y)"
   ]
  },
  {
   "cell_type": "code",
   "execution_count": null,
   "id": "a8146b56",
   "metadata": {},
   "outputs": [],
   "source": []
  },
  {
   "cell_type": "code",
   "execution_count": null,
   "id": "d4617119",
   "metadata": {},
   "outputs": [],
   "source": []
  }
 ],
 "metadata": {
  "kernelspec": {
   "display_name": "Python 3 (ipykernel)",
   "language": "python",
   "name": "python3"
  },
  "language_info": {
   "codemirror_mode": {
    "name": "ipython",
    "version": 3
   },
   "file_extension": ".py",
   "mimetype": "text/x-python",
   "name": "python",
   "nbconvert_exporter": "python",
   "pygments_lexer": "ipython3",
   "version": "3.9.7"
  }
 },
 "nbformat": 4,
 "nbformat_minor": 5
}
